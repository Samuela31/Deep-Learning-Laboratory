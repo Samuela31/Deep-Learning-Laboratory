{
  "nbformat": 4,
  "nbformat_minor": 0,
  "metadata": {
    "colab": {
      "provenance": [],
      "authorship_tag": "ABX9TyOHd/UvInUoEGz7t/hovHAA",
      "include_colab_link": true
    },
    "kernelspec": {
      "name": "python3",
      "display_name": "Python 3"
    },
    "language_info": {
      "name": "python"
    }
  },
  "cells": [
    {
      "cell_type": "markdown",
      "metadata": {
        "id": "view-in-github",
        "colab_type": "text"
      },
      "source": [
        "<a href=\"https://colab.research.google.com/github/Samuela31/Deep-Learning-Laboratory/blob/main/DL_Lab_7_Time_Series_Forecasting_Stock_Price_Prediction.ipynb\" target=\"_parent\"><img src=\"https://colab.research.google.com/assets/colab-badge.svg\" alt=\"Open In Colab\"/></a>"
      ]
    },
    {
      "cell_type": "code",
      "execution_count": null,
      "metadata": {
        "id": "hjFLezcMf9M_"
      },
      "outputs": [],
      "source": [
        "import numpy as np\n",
        "import pandas as pd\n",
        "\n",
        "import matplotlib.pyplot as plt\n",
        "import datetime as dt\n",
        "\n",
        "from sklearn.preprocessing import MinMaxScaler\n",
        "from tensorflow.keras.models import Sequential\n",
        "from tensorflow.keras.layers import Dense, Dropout, LSTM\n",
        "from tensorflow.keras.callbacks import ModelCheckpoint, EarlyStopping"
      ]
    },
    {
      "cell_type": "code",
      "source": [
        "df=pd.read_csv(\"CAC40_stocks_2021_2023.csv\")\n",
        "df"
      ],
      "metadata": {
        "colab": {
          "base_uri": "https://localhost:8080/",
          "height": 423
        },
        "id": "F3XSwwg9neHK",
        "outputId": "86ff6f5c-287c-41a3-f958-2b215641c797"
      },
      "execution_count": null,
      "outputs": [
        {
          "output_type": "execute_result",
          "data": {
            "text/plain": [
              "             Date       Open       High        Low      Close  Adj Close  \\\n",
              "0      2020-04-08  28.559999  28.559999  26.639999  28.270000  28.270000   \n",
              "1      2020-04-09  28.629999  29.570000  28.049999  28.639999  28.639999   \n",
              "2      2020-04-14  28.010000  28.340000  27.150000  27.590000  27.590000   \n",
              "3      2020-04-15  27.170000  27.299999  25.459999  25.660000  25.660000   \n",
              "4      2020-04-16  25.879999  26.700001  24.080000  24.570000  24.570000   \n",
              "...           ...        ...        ...        ...        ...        ...   \n",
              "28559  2023-03-31  19.125000  19.195000  18.860001  18.910000  18.910000   \n",
              "28560  2023-04-03  18.940001  19.325001  18.820000  19.070000  19.070000   \n",
              "28561  2023-04-04  19.170000  19.309999  18.775000  18.775000  18.775000   \n",
              "28562  2023-04-05  18.785000  18.799999  17.815001  18.125000  18.125000   \n",
              "28563  2023-04-06  18.174999  18.385000  18.129999  18.250000  18.250000   \n",
              "\n",
              "          Volume  Stock  \n",
              "0      1051666.0  AC.PA  \n",
              "1       990955.0  AC.PA  \n",
              "2       907178.0  AC.PA  \n",
              "3      1378290.0  AC.PA  \n",
              "4      1474307.0  AC.PA  \n",
              "...          ...    ...  \n",
              "28559   930746.0  FR.PA  \n",
              "28560   819094.0  FR.PA  \n",
              "28561   931876.0  FR.PA  \n",
              "28562  1518496.0  FR.PA  \n",
              "28563   737501.0  FR.PA  \n",
              "\n",
              "[28564 rows x 8 columns]"
            ],
            "text/html": [
              "\n",
              "  <div id=\"df-63989c74-ca78-4bca-8731-639690db8517\" class=\"colab-df-container\">\n",
              "    <div>\n",
              "<style scoped>\n",
              "    .dataframe tbody tr th:only-of-type {\n",
              "        vertical-align: middle;\n",
              "    }\n",
              "\n",
              "    .dataframe tbody tr th {\n",
              "        vertical-align: top;\n",
              "    }\n",
              "\n",
              "    .dataframe thead th {\n",
              "        text-align: right;\n",
              "    }\n",
              "</style>\n",
              "<table border=\"1\" class=\"dataframe\">\n",
              "  <thead>\n",
              "    <tr style=\"text-align: right;\">\n",
              "      <th></th>\n",
              "      <th>Date</th>\n",
              "      <th>Open</th>\n",
              "      <th>High</th>\n",
              "      <th>Low</th>\n",
              "      <th>Close</th>\n",
              "      <th>Adj Close</th>\n",
              "      <th>Volume</th>\n",
              "      <th>Stock</th>\n",
              "    </tr>\n",
              "  </thead>\n",
              "  <tbody>\n",
              "    <tr>\n",
              "      <th>0</th>\n",
              "      <td>2020-04-08</td>\n",
              "      <td>28.559999</td>\n",
              "      <td>28.559999</td>\n",
              "      <td>26.639999</td>\n",
              "      <td>28.270000</td>\n",
              "      <td>28.270000</td>\n",
              "      <td>1051666.0</td>\n",
              "      <td>AC.PA</td>\n",
              "    </tr>\n",
              "    <tr>\n",
              "      <th>1</th>\n",
              "      <td>2020-04-09</td>\n",
              "      <td>28.629999</td>\n",
              "      <td>29.570000</td>\n",
              "      <td>28.049999</td>\n",
              "      <td>28.639999</td>\n",
              "      <td>28.639999</td>\n",
              "      <td>990955.0</td>\n",
              "      <td>AC.PA</td>\n",
              "    </tr>\n",
              "    <tr>\n",
              "      <th>2</th>\n",
              "      <td>2020-04-14</td>\n",
              "      <td>28.010000</td>\n",
              "      <td>28.340000</td>\n",
              "      <td>27.150000</td>\n",
              "      <td>27.590000</td>\n",
              "      <td>27.590000</td>\n",
              "      <td>907178.0</td>\n",
              "      <td>AC.PA</td>\n",
              "    </tr>\n",
              "    <tr>\n",
              "      <th>3</th>\n",
              "      <td>2020-04-15</td>\n",
              "      <td>27.170000</td>\n",
              "      <td>27.299999</td>\n",
              "      <td>25.459999</td>\n",
              "      <td>25.660000</td>\n",
              "      <td>25.660000</td>\n",
              "      <td>1378290.0</td>\n",
              "      <td>AC.PA</td>\n",
              "    </tr>\n",
              "    <tr>\n",
              "      <th>4</th>\n",
              "      <td>2020-04-16</td>\n",
              "      <td>25.879999</td>\n",
              "      <td>26.700001</td>\n",
              "      <td>24.080000</td>\n",
              "      <td>24.570000</td>\n",
              "      <td>24.570000</td>\n",
              "      <td>1474307.0</td>\n",
              "      <td>AC.PA</td>\n",
              "    </tr>\n",
              "    <tr>\n",
              "      <th>...</th>\n",
              "      <td>...</td>\n",
              "      <td>...</td>\n",
              "      <td>...</td>\n",
              "      <td>...</td>\n",
              "      <td>...</td>\n",
              "      <td>...</td>\n",
              "      <td>...</td>\n",
              "      <td>...</td>\n",
              "    </tr>\n",
              "    <tr>\n",
              "      <th>28559</th>\n",
              "      <td>2023-03-31</td>\n",
              "      <td>19.125000</td>\n",
              "      <td>19.195000</td>\n",
              "      <td>18.860001</td>\n",
              "      <td>18.910000</td>\n",
              "      <td>18.910000</td>\n",
              "      <td>930746.0</td>\n",
              "      <td>FR.PA</td>\n",
              "    </tr>\n",
              "    <tr>\n",
              "      <th>28560</th>\n",
              "      <td>2023-04-03</td>\n",
              "      <td>18.940001</td>\n",
              "      <td>19.325001</td>\n",
              "      <td>18.820000</td>\n",
              "      <td>19.070000</td>\n",
              "      <td>19.070000</td>\n",
              "      <td>819094.0</td>\n",
              "      <td>FR.PA</td>\n",
              "    </tr>\n",
              "    <tr>\n",
              "      <th>28561</th>\n",
              "      <td>2023-04-04</td>\n",
              "      <td>19.170000</td>\n",
              "      <td>19.309999</td>\n",
              "      <td>18.775000</td>\n",
              "      <td>18.775000</td>\n",
              "      <td>18.775000</td>\n",
              "      <td>931876.0</td>\n",
              "      <td>FR.PA</td>\n",
              "    </tr>\n",
              "    <tr>\n",
              "      <th>28562</th>\n",
              "      <td>2023-04-05</td>\n",
              "      <td>18.785000</td>\n",
              "      <td>18.799999</td>\n",
              "      <td>17.815001</td>\n",
              "      <td>18.125000</td>\n",
              "      <td>18.125000</td>\n",
              "      <td>1518496.0</td>\n",
              "      <td>FR.PA</td>\n",
              "    </tr>\n",
              "    <tr>\n",
              "      <th>28563</th>\n",
              "      <td>2023-04-06</td>\n",
              "      <td>18.174999</td>\n",
              "      <td>18.385000</td>\n",
              "      <td>18.129999</td>\n",
              "      <td>18.250000</td>\n",
              "      <td>18.250000</td>\n",
              "      <td>737501.0</td>\n",
              "      <td>FR.PA</td>\n",
              "    </tr>\n",
              "  </tbody>\n",
              "</table>\n",
              "<p>28564 rows × 8 columns</p>\n",
              "</div>\n",
              "    <div class=\"colab-df-buttons\">\n",
              "\n",
              "  <div class=\"colab-df-container\">\n",
              "    <button class=\"colab-df-convert\" onclick=\"convertToInteractive('df-63989c74-ca78-4bca-8731-639690db8517')\"\n",
              "            title=\"Convert this dataframe to an interactive table.\"\n",
              "            style=\"display:none;\">\n",
              "\n",
              "  <svg xmlns=\"http://www.w3.org/2000/svg\" height=\"24px\" viewBox=\"0 -960 960 960\">\n",
              "    <path d=\"M120-120v-720h720v720H120Zm60-500h600v-160H180v160Zm220 220h160v-160H400v160Zm0 220h160v-160H400v160ZM180-400h160v-160H180v160Zm440 0h160v-160H620v160ZM180-180h160v-160H180v160Zm440 0h160v-160H620v160Z\"/>\n",
              "  </svg>\n",
              "    </button>\n",
              "\n",
              "  <style>\n",
              "    .colab-df-container {\n",
              "      display:flex;\n",
              "      gap: 12px;\n",
              "    }\n",
              "\n",
              "    .colab-df-convert {\n",
              "      background-color: #E8F0FE;\n",
              "      border: none;\n",
              "      border-radius: 50%;\n",
              "      cursor: pointer;\n",
              "      display: none;\n",
              "      fill: #1967D2;\n",
              "      height: 32px;\n",
              "      padding: 0 0 0 0;\n",
              "      width: 32px;\n",
              "    }\n",
              "\n",
              "    .colab-df-convert:hover {\n",
              "      background-color: #E2EBFA;\n",
              "      box-shadow: 0px 1px 2px rgba(60, 64, 67, 0.3), 0px 1px 3px 1px rgba(60, 64, 67, 0.15);\n",
              "      fill: #174EA6;\n",
              "    }\n",
              "\n",
              "    .colab-df-buttons div {\n",
              "      margin-bottom: 4px;\n",
              "    }\n",
              "\n",
              "    [theme=dark] .colab-df-convert {\n",
              "      background-color: #3B4455;\n",
              "      fill: #D2E3FC;\n",
              "    }\n",
              "\n",
              "    [theme=dark] .colab-df-convert:hover {\n",
              "      background-color: #434B5C;\n",
              "      box-shadow: 0px 1px 3px 1px rgba(0, 0, 0, 0.15);\n",
              "      filter: drop-shadow(0px 1px 2px rgba(0, 0, 0, 0.3));\n",
              "      fill: #FFFFFF;\n",
              "    }\n",
              "  </style>\n",
              "\n",
              "    <script>\n",
              "      const buttonEl =\n",
              "        document.querySelector('#df-63989c74-ca78-4bca-8731-639690db8517 button.colab-df-convert');\n",
              "      buttonEl.style.display =\n",
              "        google.colab.kernel.accessAllowed ? 'block' : 'none';\n",
              "\n",
              "      async function convertToInteractive(key) {\n",
              "        const element = document.querySelector('#df-63989c74-ca78-4bca-8731-639690db8517');\n",
              "        const dataTable =\n",
              "          await google.colab.kernel.invokeFunction('convertToInteractive',\n",
              "                                                    [key], {});\n",
              "        if (!dataTable) return;\n",
              "\n",
              "        const docLinkHtml = 'Like what you see? Visit the ' +\n",
              "          '<a target=\"_blank\" href=https://colab.research.google.com/notebooks/data_table.ipynb>data table notebook</a>'\n",
              "          + ' to learn more about interactive tables.';\n",
              "        element.innerHTML = '';\n",
              "        dataTable['output_type'] = 'display_data';\n",
              "        await google.colab.output.renderOutput(dataTable, element);\n",
              "        const docLink = document.createElement('div');\n",
              "        docLink.innerHTML = docLinkHtml;\n",
              "        element.appendChild(docLink);\n",
              "      }\n",
              "    </script>\n",
              "  </div>\n",
              "\n",
              "\n",
              "<div id=\"df-5cb88b1c-970f-43b8-997e-27ee4cb35175\">\n",
              "  <button class=\"colab-df-quickchart\" onclick=\"quickchart('df-5cb88b1c-970f-43b8-997e-27ee4cb35175')\"\n",
              "            title=\"Suggest charts\"\n",
              "            style=\"display:none;\">\n",
              "\n",
              "<svg xmlns=\"http://www.w3.org/2000/svg\" height=\"24px\"viewBox=\"0 0 24 24\"\n",
              "     width=\"24px\">\n",
              "    <g>\n",
              "        <path d=\"M19 3H5c-1.1 0-2 .9-2 2v14c0 1.1.9 2 2 2h14c1.1 0 2-.9 2-2V5c0-1.1-.9-2-2-2zM9 17H7v-7h2v7zm4 0h-2V7h2v10zm4 0h-2v-4h2v4z\"/>\n",
              "    </g>\n",
              "</svg>\n",
              "  </button>\n",
              "\n",
              "<style>\n",
              "  .colab-df-quickchart {\n",
              "      --bg-color: #E8F0FE;\n",
              "      --fill-color: #1967D2;\n",
              "      --hover-bg-color: #E2EBFA;\n",
              "      --hover-fill-color: #174EA6;\n",
              "      --disabled-fill-color: #AAA;\n",
              "      --disabled-bg-color: #DDD;\n",
              "  }\n",
              "\n",
              "  [theme=dark] .colab-df-quickchart {\n",
              "      --bg-color: #3B4455;\n",
              "      --fill-color: #D2E3FC;\n",
              "      --hover-bg-color: #434B5C;\n",
              "      --hover-fill-color: #FFFFFF;\n",
              "      --disabled-bg-color: #3B4455;\n",
              "      --disabled-fill-color: #666;\n",
              "  }\n",
              "\n",
              "  .colab-df-quickchart {\n",
              "    background-color: var(--bg-color);\n",
              "    border: none;\n",
              "    border-radius: 50%;\n",
              "    cursor: pointer;\n",
              "    display: none;\n",
              "    fill: var(--fill-color);\n",
              "    height: 32px;\n",
              "    padding: 0;\n",
              "    width: 32px;\n",
              "  }\n",
              "\n",
              "  .colab-df-quickchart:hover {\n",
              "    background-color: var(--hover-bg-color);\n",
              "    box-shadow: 0 1px 2px rgba(60, 64, 67, 0.3), 0 1px 3px 1px rgba(60, 64, 67, 0.15);\n",
              "    fill: var(--button-hover-fill-color);\n",
              "  }\n",
              "\n",
              "  .colab-df-quickchart-complete:disabled,\n",
              "  .colab-df-quickchart-complete:disabled:hover {\n",
              "    background-color: var(--disabled-bg-color);\n",
              "    fill: var(--disabled-fill-color);\n",
              "    box-shadow: none;\n",
              "  }\n",
              "\n",
              "  .colab-df-spinner {\n",
              "    border: 2px solid var(--fill-color);\n",
              "    border-color: transparent;\n",
              "    border-bottom-color: var(--fill-color);\n",
              "    animation:\n",
              "      spin 1s steps(1) infinite;\n",
              "  }\n",
              "\n",
              "  @keyframes spin {\n",
              "    0% {\n",
              "      border-color: transparent;\n",
              "      border-bottom-color: var(--fill-color);\n",
              "      border-left-color: var(--fill-color);\n",
              "    }\n",
              "    20% {\n",
              "      border-color: transparent;\n",
              "      border-left-color: var(--fill-color);\n",
              "      border-top-color: var(--fill-color);\n",
              "    }\n",
              "    30% {\n",
              "      border-color: transparent;\n",
              "      border-left-color: var(--fill-color);\n",
              "      border-top-color: var(--fill-color);\n",
              "      border-right-color: var(--fill-color);\n",
              "    }\n",
              "    40% {\n",
              "      border-color: transparent;\n",
              "      border-right-color: var(--fill-color);\n",
              "      border-top-color: var(--fill-color);\n",
              "    }\n",
              "    60% {\n",
              "      border-color: transparent;\n",
              "      border-right-color: var(--fill-color);\n",
              "    }\n",
              "    80% {\n",
              "      border-color: transparent;\n",
              "      border-right-color: var(--fill-color);\n",
              "      border-bottom-color: var(--fill-color);\n",
              "    }\n",
              "    90% {\n",
              "      border-color: transparent;\n",
              "      border-bottom-color: var(--fill-color);\n",
              "    }\n",
              "  }\n",
              "</style>\n",
              "\n",
              "  <script>\n",
              "    async function quickchart(key) {\n",
              "      const quickchartButtonEl =\n",
              "        document.querySelector('#' + key + ' button');\n",
              "      quickchartButtonEl.disabled = true;  // To prevent multiple clicks.\n",
              "      quickchartButtonEl.classList.add('colab-df-spinner');\n",
              "      try {\n",
              "        const charts = await google.colab.kernel.invokeFunction(\n",
              "            'suggestCharts', [key], {});\n",
              "      } catch (error) {\n",
              "        console.error('Error during call to suggestCharts:', error);\n",
              "      }\n",
              "      quickchartButtonEl.classList.remove('colab-df-spinner');\n",
              "      quickchartButtonEl.classList.add('colab-df-quickchart-complete');\n",
              "    }\n",
              "    (() => {\n",
              "      let quickchartButtonEl =\n",
              "        document.querySelector('#df-5cb88b1c-970f-43b8-997e-27ee4cb35175 button');\n",
              "      quickchartButtonEl.style.display =\n",
              "        google.colab.kernel.accessAllowed ? 'block' : 'none';\n",
              "    })();\n",
              "  </script>\n",
              "</div>\n",
              "    </div>\n",
              "  </div>\n"
            ],
            "application/vnd.google.colaboratory.intrinsic+json": {
              "type": "dataframe",
              "variable_name": "df",
              "summary": "{\n  \"name\": \"df\",\n  \"rows\": 28564,\n  \"fields\": [\n    {\n      \"column\": \"Date\",\n      \"properties\": {\n        \"dtype\": \"object\",\n        \"num_unique_values\": 772,\n        \"samples\": [\n          \"2022-05-13\",\n          \"2021-02-08\",\n          \"2021-09-06\"\n        ],\n        \"semantic_type\": \"\",\n        \"description\": \"\"\n      }\n    },\n    {\n      \"column\": \"Open\",\n      \"properties\": {\n        \"dtype\": \"number\",\n        \"std\": 224.51021480342797,\n        \"min\": 6.306000232696533,\n        \"max\": 1906.800048828125,\n        \"num_unique_values\": 14890,\n        \"samples\": [\n          20.81999969482422,\n          44.02000045776367,\n          15.1850004196167\n        ],\n        \"semantic_type\": \"\",\n        \"description\": \"\"\n      }\n    },\n    {\n      \"column\": \"High\",\n      \"properties\": {\n        \"dtype\": \"number\",\n        \"std\": 227.1832133940122,\n        \"min\": 6.480000019073486,\n        \"max\": 1918.800048828125,\n        \"num_unique_values\": 15702,\n        \"samples\": [\n          56.13999938964844,\n          42.48500061035156,\n          513.5999755859375\n        ],\n        \"semantic_type\": \"\",\n        \"description\": \"\"\n      }\n    },\n    {\n      \"column\": \"Low\",\n      \"properties\": {\n        \"dtype\": \"number\",\n        \"std\": 221.79826243208208,\n        \"min\": 6.15399980545044,\n        \"max\": 1893.800048828125,\n        \"num_unique_values\": 15706,\n        \"samples\": [\n          148.14999389648438,\n          10.395000457763672,\n          123.58000183105467\n        ],\n        \"semantic_type\": \"\",\n        \"description\": \"\"\n      }\n    },\n    {\n      \"column\": \"Close\",\n      \"properties\": {\n        \"dtype\": \"number\",\n        \"std\": 224.68688358149504,\n        \"min\": 6.196000099182129,\n        \"max\": 1909.199951171875,\n        \"num_unique_values\": 15660,\n        \"samples\": [\n          40.04814147949219,\n          29.600000381469727,\n          93.72000122070312\n        ],\n        \"semantic_type\": \"\",\n        \"description\": \"\"\n      }\n    },\n    {\n      \"column\": \"Adj Close\",\n      \"properties\": {\n        \"dtype\": \"number\",\n        \"std\": 222.55821606606926,\n        \"min\": 5.2810564041137695,\n        \"max\": 1909.199951171875,\n        \"num_unique_values\": 24265,\n        \"samples\": [\n          98.28227996826172,\n          33.37636184692383,\n          9.09302043914795\n        ],\n        \"semantic_type\": \"\",\n        \"description\": \"\"\n      }\n    },\n    {\n      \"column\": \"Volume\",\n      \"properties\": {\n        \"dtype\": \"number\",\n        \"std\": 2445595.0104039116,\n        \"min\": 8388.0,\n        \"max\": 71095221.0,\n        \"num_unique_values\": 28445,\n        \"samples\": [\n          551518.0,\n          1344149.0,\n          7094799.0\n        ],\n        \"semantic_type\": \"\",\n        \"description\": \"\"\n      }\n    },\n    {\n      \"column\": \"Stock\",\n      \"properties\": {\n        \"dtype\": \"category\",\n        \"num_unique_values\": 37,\n        \"samples\": [\n          \"ML.PA\",\n          \"RMS.PA\",\n          \"CS.PA\"\n        ],\n        \"semantic_type\": \"\",\n        \"description\": \"\"\n      }\n    }\n  ]\n}"
            }
          },
          "metadata": {},
          "execution_count": 22
        }
      ]
    },
    {
      "cell_type": "code",
      "source": [
        "def load_data(start, end):\n",
        "    \"\"\"\n",
        "    Load data for the specified stock and date range.\n",
        "    \"\"\"\n",
        "    dataframe = df.copy()\n",
        "    dataframe['Date'] = pd.to_datetime(dataframe['Date'])  # Convert 'Date' column to datetime\n",
        "    dataframe = dataframe.loc[(dataframe['Date'] > start) & (dataframe['Date'] < end), :]\n",
        "    return dataframe"
      ],
      "metadata": {
        "id": "w6_IEREb6u-T"
      },
      "execution_count": null,
      "outputs": []
    },
    {
      "cell_type": "code",
      "source": [
        "start_date = dt.datetime(2020,4,8)\n",
        "end_date = dt.datetime(2023,1,1)\n",
        "\n",
        "START_DATE_TEST = end_date\n",
        "\n",
        "data = load_data(start_date, end_date)"
      ],
      "metadata": {
        "id": "kr8tA4lS7AKa"
      },
      "execution_count": null,
      "outputs": []
    },
    {
      "cell_type": "code",
      "source": [
        "# Normalize data\n",
        "scaler = MinMaxScaler(feature_range=(0,1))\n",
        "scaled_data = scaler.fit_transform(data['Close'].values.reshape(-1,1))"
      ],
      "metadata": {
        "id": "xqzvDUCmrr-X"
      },
      "execution_count": null,
      "outputs": []
    },
    {
      "cell_type": "code",
      "source": [
        "scaled_data"
      ],
      "metadata": {
        "colab": {
          "base_uri": "https://localhost:8080/"
        },
        "id": "dUhC3VaS8y6Q",
        "outputId": "cc77baea-f08d-46f4-add1-a93b247f2ba9"
      },
      "execution_count": null,
      "outputs": [
        {
          "output_type": "execute_result",
          "data": {
            "text/plain": [
              "array([[0.01344512],\n",
              "       [0.01281612],\n",
              "       [0.01165995],\n",
              "       ...,\n",
              "       [0.00633737],\n",
              "       [0.00648713],\n",
              "       [0.00629244]])"
            ]
          },
          "metadata": {},
          "execution_count": 29
        }
      ]
    },
    {
      "cell_type": "code",
      "source": [
        "# Set the number of days used for prediction\n",
        "prediction_days = 60\n",
        "\n",
        "# Initialize empty lists for training data input and output\n",
        "x_train = []\n",
        "y_train = []\n",
        "\n",
        "# Iterate through the scaled data, starting from the prediction_days index\n",
        "for x in range(prediction_days, len(scaled_data)):\n",
        "    # Append the previous 'prediction_days' values to x_train\n",
        "    x_train.append(scaled_data[x - prediction_days:x, 0])\n",
        "    # Append the current value to y_train\n",
        "    y_train.append(scaled_data[x, 0])\n",
        "\n",
        "# Convert the x_train and y_train lists to numpy arrays\n",
        "x_train, y_train = np.array(x_train), np.array(y_train)\n",
        "\n",
        "# Reshape x_train to a 3D array with the appropriate dimensions for the LSTM model\n",
        "x_train = np.reshape(x_train, (x_train.shape[0], x_train.shape[1], 1))"
      ],
      "metadata": {
        "id": "3fpFIc30qaZv"
      },
      "execution_count": null,
      "outputs": []
    },
    {
      "cell_type": "code",
      "source": [
        "print(x_train)"
      ],
      "metadata": {
        "colab": {
          "base_uri": "https://localhost:8080/"
        },
        "id": "n8KDqR47r5tG",
        "outputId": "26c329ae-a55c-499a-c0f3-eb369ae86ce2"
      },
      "execution_count": null,
      "outputs": [
        {
          "output_type": "stream",
          "name": "stdout",
          "text": [
            "[[[0.01344512]\n",
            "  [0.01281612]\n",
            "  [0.01165995]\n",
            "  ...\n",
            "  [0.01114476]\n",
            "  [0.01110882]\n",
            "  [0.01144429]]\n",
            "\n",
            " [[0.01281612]\n",
            "  [0.01165995]\n",
            "  [0.01100698]\n",
            "  ...\n",
            "  [0.01110882]\n",
            "  [0.01144429]\n",
            "  [0.01120467]]\n",
            "\n",
            " [[0.01165995]\n",
            "  [0.01100698]\n",
            "  [0.01236683]\n",
            "  ...\n",
            "  [0.01144429]\n",
            "  [0.01120467]\n",
            "  [0.01101297]]\n",
            "\n",
            " ...\n",
            "\n",
            " [[0.00629544]\n",
            "  [0.00563948]\n",
            "  [0.00595098]\n",
            "  ...\n",
            "  [0.00617263]\n",
            "  [0.00630742]\n",
            "  [0.0063194 ]]\n",
            "\n",
            " [[0.00563948]\n",
            "  [0.00595098]\n",
            "  [0.00590605]\n",
            "  ...\n",
            "  [0.00630742]\n",
            "  [0.0063194 ]\n",
            "  [0.00633737]]\n",
            "\n",
            " [[0.00595098]\n",
            "  [0.00590605]\n",
            "  [0.00580122]\n",
            "  ...\n",
            "  [0.0063194 ]\n",
            "  [0.00633737]\n",
            "  [0.00648713]]]\n"
          ]
        }
      ]
    },
    {
      "cell_type": "code",
      "source": [
        "print(y_train)"
      ],
      "metadata": {
        "colab": {
          "base_uri": "https://localhost:8080/"
        },
        "id": "eiDlHDAor8MF",
        "outputId": "89e8676f-6609-4dba-bb05-8828f52d3c66"
      },
      "execution_count": null,
      "outputs": [
        {
          "output_type": "stream",
          "name": "stdout",
          "text": [
            "[0.01120467 0.01101297 0.01055769 ... 0.00633737 0.00648713 0.00629244]\n"
          ]
        }
      ]
    },
    {
      "cell_type": "code",
      "source": [
        "# Initialize a sequential model\n",
        "model = Sequential()\n",
        "\n",
        "# Add the first LSTM layer with 50 units, input shape, and return sequences\n",
        "model.add(LSTM(units=50, return_sequences=True, input_shape=(x_train.shape[1], 1)))\n",
        "# Add dropout to prevent overfitting\n",
        "model.add(Dropout(0.2))\n",
        "\n",
        "# Add a second LSTM layer with 50 units and return sequences\n",
        "model.add(LSTM(units=50, return_sequences=True))\n",
        "# Add dropout to prevent overfitting\n",
        "model.add(Dropout(0.2))\n",
        "\n",
        "# Add a third LSTM layer with 50 units\n",
        "model.add(LSTM(units=50))\n",
        "# Add dropout to prevent overfitting\n",
        "model.add(Dropout(0.2))\n",
        "\n",
        "# Add a dense output layer with one unit\n",
        "model.add(Dense(units=1))"
      ],
      "metadata": {
        "id": "3dEw3xFosJ2q"
      },
      "execution_count": null,
      "outputs": []
    },
    {
      "cell_type": "code",
      "source": [
        "model.summary()\n",
        "model.compile(\n",
        "    optimizer='adam',\n",
        "    loss='mean_squared_error'\n",
        ")"
      ],
      "metadata": {
        "colab": {
          "base_uri": "https://localhost:8080/"
        },
        "id": "3NiJDaWpscd7",
        "outputId": "b36548cf-8467-4aad-ebc5-c3150fc6e7d9"
      },
      "execution_count": null,
      "outputs": [
        {
          "output_type": "stream",
          "name": "stdout",
          "text": [
            "Model: \"sequential_1\"\n",
            "_________________________________________________________________\n",
            " Layer (type)                Output Shape              Param #   \n",
            "=================================================================\n",
            " lstm_3 (LSTM)               (None, 60, 50)            10400     \n",
            "                                                                 \n",
            " dropout_3 (Dropout)         (None, 60, 50)            0         \n",
            "                                                                 \n",
            " lstm_4 (LSTM)               (None, 60, 50)            20200     \n",
            "                                                                 \n",
            " dropout_4 (Dropout)         (None, 60, 50)            0         \n",
            "                                                                 \n",
            " lstm_5 (LSTM)               (None, 50)                20200     \n",
            "                                                                 \n",
            " dropout_5 (Dropout)         (None, 50)                0         \n",
            "                                                                 \n",
            " dense_1 (Dense)             (None, 1)                 51        \n",
            "                                                                 \n",
            "=================================================================\n",
            "Total params: 50851 (198.64 KB)\n",
            "Trainable params: 50851 (198.64 KB)\n",
            "Non-trainable params: 0 (0.00 Byte)\n",
            "_________________________________________________________________\n"
          ]
        }
      ]
    },
    {
      "cell_type": "code",
      "source": [
        "model.fit(\n",
        "    x_train,\n",
        "    y_train,\n",
        "    epochs=25,\n",
        "    batch_size = 32,\n",
        ")"
      ],
      "metadata": {
        "colab": {
          "base_uri": "https://localhost:8080/"
        },
        "id": "DKShVaZssiZ4",
        "outputId": "12738229-dc39-4808-9224-a4b781e77806"
      },
      "execution_count": null,
      "outputs": [
        {
          "output_type": "stream",
          "name": "stdout",
          "text": [
            "Epoch 1/25\n",
            "810/810 [==============================] - 76s 86ms/step - loss: 8.1536e-04\n",
            "Epoch 2/25\n",
            "810/810 [==============================] - 71s 88ms/step - loss: 4.9371e-04\n",
            "Epoch 3/25\n",
            "810/810 [==============================] - 72s 89ms/step - loss: 3.4587e-04\n",
            "Epoch 4/25\n",
            "810/810 [==============================] - 71s 87ms/step - loss: 3.7029e-04\n",
            "Epoch 5/25\n",
            "810/810 [==============================] - 72s 88ms/step - loss: 3.3350e-04\n",
            "Epoch 6/25\n",
            "810/810 [==============================] - 71s 88ms/step - loss: 3.1796e-04\n",
            "Epoch 7/25\n",
            "810/810 [==============================] - 71s 88ms/step - loss: 3.2937e-04\n",
            "Epoch 8/25\n",
            "810/810 [==============================] - 70s 86ms/step - loss: 2.9032e-04\n",
            "Epoch 9/25\n",
            "810/810 [==============================] - 73s 90ms/step - loss: 2.8509e-04\n",
            "Epoch 10/25\n",
            "810/810 [==============================] - 71s 87ms/step - loss: 2.9937e-04\n",
            "Epoch 11/25\n",
            "810/810 [==============================] - 72s 89ms/step - loss: 2.4418e-04\n",
            "Epoch 12/25\n",
            "810/810 [==============================] - 70s 86ms/step - loss: 2.5956e-04\n",
            "Epoch 13/25\n",
            "810/810 [==============================] - 72s 89ms/step - loss: 2.4921e-04\n",
            "Epoch 14/25\n",
            "810/810 [==============================] - 70s 86ms/step - loss: 2.7319e-04\n",
            "Epoch 15/25\n",
            "810/810 [==============================] - 72s 89ms/step - loss: 2.4624e-04\n",
            "Epoch 16/25\n",
            "810/810 [==============================] - 73s 91ms/step - loss: 2.2488e-04\n",
            "Epoch 17/25\n",
            "810/810 [==============================] - 70s 87ms/step - loss: 2.4073e-04\n",
            "Epoch 18/25\n",
            "810/810 [==============================] - 71s 88ms/step - loss: 2.2739e-04\n",
            "Epoch 19/25\n",
            "810/810 [==============================] - 72s 88ms/step - loss: 2.2382e-04\n",
            "Epoch 20/25\n",
            "810/810 [==============================] - 72s 89ms/step - loss: 2.2395e-04\n",
            "Epoch 21/25\n",
            "810/810 [==============================] - 70s 86ms/step - loss: 2.2611e-04\n",
            "Epoch 22/25\n",
            "810/810 [==============================] - 73s 90ms/step - loss: 2.2220e-04\n",
            "Epoch 23/25\n",
            "810/810 [==============================] - 71s 88ms/step - loss: 2.0851e-04\n",
            "Epoch 24/25\n",
            "810/810 [==============================] - 73s 90ms/step - loss: 2.1690e-04\n",
            "Epoch 25/25\n",
            "810/810 [==============================] - 71s 88ms/step - loss: 2.2335e-04\n"
          ]
        },
        {
          "output_type": "execute_result",
          "data": {
            "text/plain": [
              "<keras.src.callbacks.History at 0x79022c0d9bd0>"
            ]
          },
          "metadata": {},
          "execution_count": 35
        }
      ]
    },
    {
      "cell_type": "code",
      "source": [
        "# Load test data for the specified company and date range\n",
        "test_data = load_data(\n",
        "    start=START_DATE_TEST,\n",
        "    end=dt.datetime.now()\n",
        ")\n",
        "\n",
        "# Extract the actual closing prices from the test data\n",
        "actual_prices = test_data['Close'].values\n",
        "\n",
        "# Concatenate the training and test data along the 'Close' column\n",
        "total_dataset = pd.concat((data['Close'], test_data['Close']), axis=0)\n",
        "\n",
        "# Extract the relevant portion of the dataset for model inputs\n",
        "model_inputs = total_dataset[len(total_dataset) - len(test_data) - prediction_days:].values\n",
        "\n",
        "# Reshape the model inputs to a 2D array with a single column\n",
        "model_inputs = model_inputs.reshape(-1, 1)\n",
        "\n",
        "# Apply the same scaling used for training data to the model inputs\n",
        "model_inputs = scaler.transform(model_inputs)"
      ],
      "metadata": {
        "id": "fVzIXHEqvFFI"
      },
      "execution_count": null,
      "outputs": []
    },
    {
      "cell_type": "code",
      "source": [
        "# Initialize an empty list for test data input\n",
        "x_test = []\n",
        "\n",
        "# Iterate through the model inputs, starting from the prediction_days index\n",
        "for x in range(prediction_days, len(model_inputs)):\n",
        "    # Append the previous 'prediction_days' values to x_test\n",
        "    x_test.append(model_inputs[x-prediction_days:x, 0])\n",
        "\n",
        "# Convert the x_test list to a numpy array\n",
        "x_test = np.array(x_test)\n",
        "\n",
        "# Reshape x_test to a 3D array with the appropriate dimensions for the LSTM model\n",
        "x_test = np.reshape(x_test, (x_test.shape[0], x_test.shape[1], 1))\n",
        "\n",
        "# Generate price predictions using the LSTM model\n",
        "predicted_prices = model.predict(x_test)\n",
        "\n",
        "# Invert the scaling applied to the predicted prices to obtain actual values\n",
        "predicted_prices = scaler.inverse_transform(predicted_prices)"
      ],
      "metadata": {
        "colab": {
          "base_uri": "https://localhost:8080/"
        },
        "id": "JhWHuCbJ3rC8",
        "outputId": "b6af5283-37c6-4252-99eb-7bb2366e8779"
      },
      "execution_count": null,
      "outputs": [
        {
          "output_type": "stream",
          "name": "stdout",
          "text": [
            "80/80 [==============================] - 3s 27ms/step\n"
          ]
        }
      ]
    },
    {
      "cell_type": "code",
      "source": [
        "# Plot the actual prices using a black line\n",
        "plt.plot(actual_prices, color='black', label=\"Actual price\")\n",
        "\n",
        "# Plot the predicted prices using a green line\n",
        "plt.plot(predicted_prices, color='green', label=\"Predicted price\")\n",
        "\n",
        "# Set the title of the plot using the company name\n",
        "plt.title(\"Share price\")\n",
        "\n",
        "# Set the x-axis label as 'time'\n",
        "plt.xlabel(\"time\")\n",
        "\n",
        "# Set the y-axis label using the company name\n",
        "plt.ylabel(\"Share price\")\n",
        "\n",
        "# Display a legend to differentiate the actual and predicted prices\n",
        "plt.legend()\n",
        "\n",
        "# Show the plot on the screen\n",
        "plt.show()"
      ],
      "metadata": {
        "colab": {
          "base_uri": "https://localhost:8080/",
          "height": 472
        },
        "id": "nTO6YOFj4MXz",
        "outputId": "05d40806-85e8-4a2c-b370-1f8660c51598"
      },
      "execution_count": null,
      "outputs": [
        {
          "output_type": "display_data",
          "data": {
            "text/plain": [
              "<Figure size 640x480 with 1 Axes>"
            ],
            "image/png": "[encoded data removed]"
          },
          "metadata": {}
        }
      ]
    },
    {
      "cell_type": "code",
      "source": [
        "# Extract the last 'prediction_days' values from the model inputs\n",
        "real_data = [model_inputs[len(model_inputs) + 1 - prediction_days:len(model_inputs + 1), 0]]\n",
        "\n",
        "# Convert the real_data list to a numpy array\n",
        "real_data = np.array(real_data)\n",
        "\n",
        "# Reshape real_data to a 3D array with the appropriate dimensions for the LSTM model\n",
        "real_data = np.reshape(real_data, (real_data.shape[0], real_data.shape[1], 1))\n",
        "\n",
        "# Generate a prediction using the LSTM model with the real_data input\n",
        "prediction = model.predict(real_data)\n",
        "\n",
        "# Invert the scaling applied to the prediction to obtain the actual value\n",
        "prediction = scaler.inverse_transform(prediction)\n",
        "\n",
        "# Print the prediction result to the console\n",
        "print(f\"MSE: {prediction[0][0]}\")"
      ],
      "metadata": {
        "colab": {
          "base_uri": "https://localhost:8080/"
        },
        "id": "tEZbZ_6j4k7C",
        "outputId": "3c606aad-470f-4f82-bc70-6467c511d044"
      },
      "execution_count": null,
      "outputs": [
        {
          "output_type": "stream",
          "name": "stdout",
          "text": [
            "1/1 [==============================] - 0s 46ms/step\n",
            "MSE: 19.772687911987305\n"
          ]
        }
      ]
    }
  ]
}